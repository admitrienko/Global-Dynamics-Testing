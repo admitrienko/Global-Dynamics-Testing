{
 "cells": [
  {
   "cell_type": "code",
   "execution_count": 1,
   "metadata": {},
   "outputs": [
    {
     "name": "stdout",
     "output_type": "stream",
     "text": [
      "3.6.2\n"
     ]
    }
   ],
   "source": [
    "from platform import python_version\n",
    "print(python_version())"
   ]
  },
  {
   "cell_type": "code",
   "execution_count": 2,
   "metadata": {},
   "outputs": [
    {
     "name": "stderr",
     "output_type": "stream",
     "text": [
      "/Users/anastasia/anaconda3/lib/python3.6/site-packages/h5py/__init__.py:34: FutureWarning: Conversion of the second argument of issubdtype from `float` to `np.floating` is deprecated. In future, it will be treated as `np.float64 == np.dtype(float).type`.\n",
      "  from ._conv import register_converters as _register_converters\n"
     ]
    }
   ],
   "source": [
    "from pylds.lds_messages_interface import kalman_filter, E_step\n",
    "import numpy as np\n",
    "import numpy.random as npr\n",
    "import h5py\n",
    "import sys\n",
    "import time\n",
    "import matplotlib.pyplot as plt\n",
    "from pylds.models import DefaultLDS\n",
    "sys.path.append('/Users/anastasia/Documents/Github/rand_tensor/')\n",
    "from utils import *\n",
    "from randtensor import *"
   ]
  },
  {
   "cell_type": "code",
   "execution_count": 3,
   "metadata": {
    "collapsed": true
   },
   "outputs": [],
   "source": [
    "filename = '/Users/anastasia/Desktop/zimmer/WT_data.mat'\n",
    "f = h5py.File(filename,'r') \n",
    "key0 = list(f.keys())[0]\n",
    "key1 = list(f.keys())[1]\n",
    "key2 = list(f.keys())[2]\n",
    "\n",
    "group0 = f[key0] # key is #refs#, group with 1184 members\n",
    "group0keys = list(group0.keys()) #(0-9, A-Z, a-z) + (b-t)\n",
    "\n",
    "group1 = f[key1] # key is #subsystem#, group with 1 member\n",
    "group1keys = list(group1.keys()) #MCOS dataset\n",
    "\n",
    "group2 = f[key2] # key is WT_data, group with 5 member\n",
    "group2keys = list(group2.keys()) \n",
    "group2_variables = list(group2['N1'].keys()) #['NeuronNames', 'Opts', 'States', 'dataset', 'deltaFOverF', 'deltaFOverF_bc', 'fps', 'processed', 'tv']\n",
    "\n",
    "x = np.array(group2['N1']['processed']['deltaFOverF_bc_detr'][:])"
   ]
  },
  {
   "cell_type": "code",
   "execution_count": 4,
   "metadata": {},
   "outputs": [
    {
     "ename": "ImportError",
     "evalue": "dlopen(/Users/anastasia/anaconda3/lib/python3.6/site-packages/pypolyagamma/pypolyagamma.cpython-36m-darwin.so, 2): Library not loaded: @rpath/libgsl.23.dylib\n  Referenced from: /Users/anastasia/anaconda3/lib/python3.6/site-packages/pypolyagamma/pypolyagamma.cpython-36m-darwin.so\n  Reason: image not found",
     "output_type": "error",
     "traceback": [
      "\u001b[0;31m---------------------------------------------------------------------------\u001b[0m",
      "\u001b[0;31mImportError\u001b[0m                               Traceback (most recent call last)",
      "\u001b[0;32m<ipython-input-4-52a044a9d5fa>\u001b[0m in \u001b[0;36m<module>\u001b[0;34m()\u001b[0m\n\u001b[1;32m     11\u001b[0m \u001b[0mtruemodel\u001b[0m \u001b[0;34m=\u001b[0m \u001b[0mDefaultLDS\u001b[0m\u001b[0;34m(\u001b[0m\u001b[0mD_obs\u001b[0m\u001b[0;34m,\u001b[0m \u001b[0mD_latent\u001b[0m\u001b[0;34m,\u001b[0m \u001b[0mD_input\u001b[0m\u001b[0;34m)\u001b[0m\u001b[0;34m\u001b[0m\u001b[0m\n\u001b[1;32m     12\u001b[0m \u001b[0minputs\u001b[0m \u001b[0;34m=\u001b[0m \u001b[0mnp\u001b[0m\u001b[0;34m.\u001b[0m\u001b[0mrandom\u001b[0m\u001b[0;34m.\u001b[0m\u001b[0mrandn\u001b[0m\u001b[0;34m(\u001b[0m\u001b[0mT\u001b[0m\u001b[0;34m,\u001b[0m \u001b[0mD_input\u001b[0m\u001b[0;34m)\u001b[0m\u001b[0;34m\u001b[0m\u001b[0m\n\u001b[0;32m---> 13\u001b[0;31m \u001b[0mdata\u001b[0m\u001b[0;34m,\u001b[0m \u001b[0mstateseq\u001b[0m \u001b[0;34m=\u001b[0m \u001b[0mtruemodel\u001b[0m\u001b[0;34m.\u001b[0m\u001b[0mgenerate\u001b[0m\u001b[0;34m(\u001b[0m\u001b[0mT\u001b[0m\u001b[0;34m,\u001b[0m \u001b[0minputs\u001b[0m\u001b[0;34m=\u001b[0m\u001b[0minputs\u001b[0m\u001b[0;34m)\u001b[0m\u001b[0;34m\u001b[0m\u001b[0m\n\u001b[0m\u001b[1;32m     14\u001b[0m \u001b[0;34m\u001b[0m\u001b[0m\n\u001b[1;32m     15\u001b[0m \u001b[0;31m# Fit with another LDS\u001b[0m\u001b[0;34m\u001b[0m\u001b[0;34m\u001b[0m\u001b[0m\n",
      "\u001b[0;32m~/anaconda3/lib/python3.6/site-packages/pylds/models.py\u001b[0m in \u001b[0;36mgenerate\u001b[0;34m(self, T, inputs, keep)\u001b[0m\n\u001b[1;32m     41\u001b[0m \u001b[0;34m\u001b[0m\u001b[0m\n\u001b[1;32m     42\u001b[0m     \u001b[0;32mdef\u001b[0m \u001b[0mgenerate\u001b[0m\u001b[0;34m(\u001b[0m\u001b[0mself\u001b[0m\u001b[0;34m,\u001b[0m \u001b[0mT\u001b[0m\u001b[0;34m,\u001b[0m \u001b[0minputs\u001b[0m\u001b[0;34m=\u001b[0m\u001b[0;32mNone\u001b[0m\u001b[0;34m,\u001b[0m \u001b[0mkeep\u001b[0m\u001b[0;34m=\u001b[0m\u001b[0;32mTrue\u001b[0m\u001b[0;34m)\u001b[0m\u001b[0;34m:\u001b[0m\u001b[0;34m\u001b[0m\u001b[0m\n\u001b[0;32m---> 43\u001b[0;31m         \u001b[0ms\u001b[0m \u001b[0;34m=\u001b[0m \u001b[0mself\u001b[0m\u001b[0;34m.\u001b[0m\u001b[0m_states_class\u001b[0m\u001b[0;34m(\u001b[0m\u001b[0mmodel\u001b[0m\u001b[0;34m=\u001b[0m\u001b[0mself\u001b[0m\u001b[0;34m,\u001b[0m \u001b[0mT\u001b[0m\u001b[0;34m=\u001b[0m\u001b[0mT\u001b[0m\u001b[0;34m,\u001b[0m \u001b[0minputs\u001b[0m\u001b[0;34m=\u001b[0m\u001b[0minputs\u001b[0m\u001b[0;34m,\u001b[0m \u001b[0minitialize_from_prior\u001b[0m\u001b[0;34m=\u001b[0m\u001b[0;32mTrue\u001b[0m\u001b[0;34m)\u001b[0m\u001b[0;34m\u001b[0m\u001b[0m\n\u001b[0m\u001b[1;32m     44\u001b[0m         \u001b[0mdata\u001b[0m \u001b[0;34m=\u001b[0m \u001b[0mself\u001b[0m\u001b[0;34m.\u001b[0m\u001b[0m_generate_obs\u001b[0m\u001b[0;34m(\u001b[0m\u001b[0ms\u001b[0m\u001b[0;34m,\u001b[0m \u001b[0minputs\u001b[0m\u001b[0;34m)\u001b[0m\u001b[0;34m\u001b[0m\u001b[0m\n\u001b[1;32m     45\u001b[0m         \u001b[0;32mif\u001b[0m \u001b[0mkeep\u001b[0m\u001b[0;34m:\u001b[0m\u001b[0;34m\u001b[0m\u001b[0m\n",
      "\u001b[0;32m~/anaconda3/lib/python3.6/site-packages/pylds/states.py\u001b[0m in \u001b[0;36m__init__\u001b[0;34m(self, model, data, mask, **kwargs)\u001b[0m\n\u001b[1;32m    601\u001b[0m \u001b[0;34m\u001b[0m\u001b[0m\n\u001b[1;32m    602\u001b[0m         \u001b[0;31m# Check if the emission matrix is a count regression\u001b[0m\u001b[0;34m\u001b[0m\u001b[0;34m\u001b[0m\u001b[0m\n\u001b[0;32m--> 603\u001b[0;31m         \u001b[0;32mfrom\u001b[0m \u001b[0mpypolyagamma\u001b[0m\u001b[0;34m.\u001b[0m\u001b[0mdistributions\u001b[0m \u001b[0;32mimport\u001b[0m \u001b[0m_PGLogisticRegressionBase\u001b[0m\u001b[0;34m\u001b[0m\u001b[0m\n\u001b[0m\u001b[1;32m    604\u001b[0m         \u001b[0;32mif\u001b[0m \u001b[0misinstance\u001b[0m\u001b[0;34m(\u001b[0m\u001b[0mself\u001b[0m\u001b[0;34m.\u001b[0m\u001b[0memission_distn\u001b[0m\u001b[0;34m,\u001b[0m \u001b[0m_PGLogisticRegressionBase\u001b[0m\u001b[0;34m)\u001b[0m\u001b[0;34m:\u001b[0m\u001b[0;34m\u001b[0m\u001b[0m\n\u001b[1;32m    605\u001b[0m             \u001b[0mself\u001b[0m\u001b[0;34m.\u001b[0m\u001b[0mhas_count_data\u001b[0m \u001b[0;34m=\u001b[0m \u001b[0;32mTrue\u001b[0m\u001b[0;34m\u001b[0m\u001b[0m\n",
      "\u001b[0;32m~/anaconda3/lib/python3.6/site-packages/pypolyagamma/__init__.py\u001b[0m in \u001b[0;36m<module>\u001b[0;34m()\u001b[0m\n\u001b[1;32m      1\u001b[0m \u001b[0;32mfrom\u001b[0m \u001b[0m__future__\u001b[0m \u001b[0;32mimport\u001b[0m \u001b[0mabsolute_import\u001b[0m\u001b[0;34m\u001b[0m\u001b[0m\n\u001b[1;32m      2\u001b[0m \u001b[0;32mfrom\u001b[0m \u001b[0mwarnings\u001b[0m \u001b[0;32mimport\u001b[0m \u001b[0mwarn\u001b[0m\u001b[0;34m\u001b[0m\u001b[0m\n\u001b[0;32m----> 3\u001b[0;31m \u001b[0;32mfrom\u001b[0m \u001b[0mpypolyagamma\u001b[0m\u001b[0;34m.\u001b[0m\u001b[0mpypolyagamma\u001b[0m \u001b[0;32mimport\u001b[0m \u001b[0mPyRNG\u001b[0m\u001b[0;34m,\u001b[0m \u001b[0mPyPolyaGamma\u001b[0m\u001b[0;34m\u001b[0m\u001b[0m\n\u001b[0m\u001b[1;32m      4\u001b[0m \u001b[0;34m\u001b[0m\u001b[0m\n\u001b[1;32m      5\u001b[0m \u001b[0;31m# Try to import the parallel version, but if they didn't compile,\u001b[0m\u001b[0;34m\u001b[0m\u001b[0;34m\u001b[0m\u001b[0m\n",
      "\u001b[0;31mImportError\u001b[0m: dlopen(/Users/anastasia/anaconda3/lib/python3.6/site-packages/pypolyagamma/pypolyagamma.cpython-36m-darwin.so, 2): Library not loaded: @rpath/libgsl.23.dylib\n  Referenced from: /Users/anastasia/anaconda3/lib/python3.6/site-packages/pypolyagamma/pypolyagamma.cpython-36m-darwin.so\n  Reason: image not found"
     ]
    }
   ],
   "source": [
    "######example from EM.py\n",
    "npr.seed(0)\n",
    "\n",
    "# Set parameters\n",
    "D_obs = 1\n",
    "D_latent = 2\n",
    "D_input = 0\n",
    "T = 2000\n",
    "\n",
    "# Simulate from one LDS\n",
    "truemodel = DefaultLDS(D_obs, D_latent, D_input)\n",
    "inputs = np.random.randn(T, D_input)\n",
    "data, stateseq = truemodel.generate(T, inputs=inputs)\n",
    "\n",
    "# Fit with another LDS\n",
    "model = DefaultLDS(D_obs, D_latent, D_input)\n",
    "model.add_data(data, inputs=inputs)"
   ]
  },
  {
   "cell_type": "code",
   "execution_count": 5,
   "metadata": {},
   "outputs": [],
   "source": [
    "T = 3000\n",
    "D = 30\n",
    "N = 100\n",
    "\n",
    "data = npr.randn(T, N)\n",
    "inputs = np.zeros((T, 0))\n",
    "mu_init = np.zeros(D)\n",
    "sigma_init = np.eye(D)\n",
    "A = np.eye(D)\n",
    "B  = np.zeros((D, 0))\n",
    "sigma_states = np.eye(D)\n",
    "C = npr.randn(N, D)\n",
    "D = np.zeros((N, 0))\n",
    "sigma_obs = np.eye(N)\n",
    "\n",
    "#lls, filtered_mus, filtered_sigmas = \\\n",
    "#    kalman_filter(mu_init, sigma_init, A, B, sigma_states, C, D, sigma_obs, inputs, data)\n",
    "    \n",
    "#new_lls, new_filtered_mus, new_filtered_sigmas, expected = E_step(mu_init, sigma_init, A, B, sigma_states, C, D, sigma_obs, inputs, data)   \n",
    "  "
   ]
  },
  {
   "cell_type": "code",
   "execution_count": 6,
   "metadata": {
    "collapsed": true
   },
   "outputs": [],
   "source": [
    "def kalman_convergence(subject, n_dim_state, n_time_points):\n",
    "    #parameter: subject, state dimensions, # of time points \n",
    "    \n",
    "    x = np.array(group2[subject]['processed']['deltaFOverF_bc_detr'][:]);\n",
    "    \n",
    "    x = x[:,0:n_time_points]\n",
    "    \n",
    "    x = x.T\n",
    "    \n",
    "    \n",
    "    T = n_time_points #T = 3000\n",
    "    D = n_dim_state #D = 10\n",
    "    N = x.shape[1] #N = 109\n",
    "    \n",
    "    model = DefaultLDS(N, D, 0) #D_obs, D_latent, D_input\n",
    "    model.add_data(x) #add this\n",
    "\n",
    "    \n",
    "    def update(model):\n",
    "        model.EM_step()\n",
    "        return model.log_likelihood()\n",
    "    \n",
    "    \n",
    "    \n",
    "    converged = False\n",
    "    \n",
    "    tol = 1e-8\n",
    "    \n",
    "    #lls = [update(model) for _ in progprint_xrange(50)]\n",
    "    \n",
    "    i = 0\n",
    "    while converged == False:\n",
    "        \n",
    "        print(i)\n",
    "        \n",
    "        log_likelihood = update(model)\n",
    "        \n",
    "        LL.append(log_likelihood)\n",
    "\n",
    "        LLold = LL[i]\n",
    "\n",
    "        if i<=2:\n",
    "\n",
    "            LLbase = LL[i];\n",
    "\n",
    "        elif ((LL[i]-LLbase) < (1+tol)*(LLold-LLbase)):\n",
    "\n",
    "            converged = True\n",
    "       \n",
    "        i = i + 1\n",
    "        \n",
    "    #plt.plot(LL)\n",
    "    \n",
    "    print(LL)\n",
    "        \n",
    "    return i - 1"
   ]
  },
  {
   "cell_type": "code",
   "execution_count": 7,
   "metadata": {},
   "outputs": [
    {
     "ename": "ImportError",
     "evalue": "dlopen(/Users/anastasia/anaconda3/lib/python3.6/site-packages/pypolyagamma/pypolyagamma.cpython-36m-darwin.so, 2): Library not loaded: @rpath/libgsl.23.dylib\n  Referenced from: /Users/anastasia/anaconda3/lib/python3.6/site-packages/pypolyagamma/pypolyagamma.cpython-36m-darwin.so\n  Reason: image not found",
     "output_type": "error",
     "traceback": [
      "\u001b[0;31m---------------------------------------------------------------------------\u001b[0m",
      "\u001b[0;31mImportError\u001b[0m                               Traceback (most recent call last)",
      "\u001b[0;32m<ipython-input-7-c9754f97ec1b>\u001b[0m in \u001b[0;36m<module>\u001b[0;34m()\u001b[0m\n\u001b[0;32m----> 1\u001b[0;31m \u001b[0mkalman_convergence\u001b[0m\u001b[0;34m(\u001b[0m\u001b[0;34m'N1'\u001b[0m\u001b[0;34m,\u001b[0m \u001b[0;36m10\u001b[0m\u001b[0;34m,\u001b[0m \u001b[0;36m3000\u001b[0m\u001b[0;34m)\u001b[0m\u001b[0;34m\u001b[0m\u001b[0m\n\u001b[0m",
      "\u001b[0;32m<ipython-input-6-ddeb0c8ebf8b>\u001b[0m in \u001b[0;36mkalman_convergence\u001b[0;34m(subject, n_dim_state, n_time_points)\u001b[0m\n\u001b[1;32m     14\u001b[0m \u001b[0;34m\u001b[0m\u001b[0m\n\u001b[1;32m     15\u001b[0m     \u001b[0mmodel\u001b[0m \u001b[0;34m=\u001b[0m \u001b[0mDefaultLDS\u001b[0m\u001b[0;34m(\u001b[0m\u001b[0mN\u001b[0m\u001b[0;34m,\u001b[0m \u001b[0mD\u001b[0m\u001b[0;34m,\u001b[0m \u001b[0;36m0\u001b[0m\u001b[0;34m)\u001b[0m \u001b[0;31m#D_obs, D_latent, D_input\u001b[0m\u001b[0;34m\u001b[0m\u001b[0m\n\u001b[0;32m---> 16\u001b[0;31m     \u001b[0mmodel\u001b[0m\u001b[0;34m.\u001b[0m\u001b[0madd_data\u001b[0m\u001b[0;34m(\u001b[0m\u001b[0mx\u001b[0m\u001b[0;34m)\u001b[0m \u001b[0;31m#add this\u001b[0m\u001b[0;34m\u001b[0m\u001b[0m\n\u001b[0m\u001b[1;32m     17\u001b[0m \u001b[0;34m\u001b[0m\u001b[0m\n\u001b[1;32m     18\u001b[0m \u001b[0;34m\u001b[0m\u001b[0m\n",
      "\u001b[0;32m~/anaconda3/lib/python3.6/site-packages/pylds/models.py\u001b[0m in \u001b[0;36madd_data\u001b[0;34m(self, data, inputs, mask, **kwargs)\u001b[0m\n\u001b[1;32m     26\u001b[0m     \u001b[0;32mdef\u001b[0m \u001b[0madd_data\u001b[0m\u001b[0;34m(\u001b[0m\u001b[0mself\u001b[0m\u001b[0;34m,\u001b[0m\u001b[0mdata\u001b[0m\u001b[0;34m,\u001b[0m \u001b[0minputs\u001b[0m\u001b[0;34m=\u001b[0m\u001b[0;32mNone\u001b[0m\u001b[0;34m,\u001b[0m \u001b[0mmask\u001b[0m\u001b[0;34m=\u001b[0m\u001b[0;32mNone\u001b[0m\u001b[0;34m,\u001b[0m \u001b[0;34m**\u001b[0m\u001b[0mkwargs\u001b[0m\u001b[0;34m)\u001b[0m\u001b[0;34m:\u001b[0m\u001b[0;34m\u001b[0m\u001b[0m\n\u001b[1;32m     27\u001b[0m         \u001b[0;32massert\u001b[0m \u001b[0misinstance\u001b[0m\u001b[0;34m(\u001b[0m\u001b[0mdata\u001b[0m\u001b[0;34m,\u001b[0m\u001b[0mnp\u001b[0m\u001b[0;34m.\u001b[0m\u001b[0mndarray\u001b[0m\u001b[0;34m)\u001b[0m\u001b[0;34m\u001b[0m\u001b[0m\n\u001b[0;32m---> 28\u001b[0;31m         \u001b[0mself\u001b[0m\u001b[0;34m.\u001b[0m\u001b[0mstates_list\u001b[0m\u001b[0;34m.\u001b[0m\u001b[0mappend\u001b[0m\u001b[0;34m(\u001b[0m\u001b[0mself\u001b[0m\u001b[0;34m.\u001b[0m\u001b[0m_states_class\u001b[0m\u001b[0;34m(\u001b[0m\u001b[0mmodel\u001b[0m\u001b[0;34m=\u001b[0m\u001b[0mself\u001b[0m\u001b[0;34m,\u001b[0m \u001b[0mdata\u001b[0m\u001b[0;34m=\u001b[0m\u001b[0mdata\u001b[0m\u001b[0;34m,\u001b[0m \u001b[0minputs\u001b[0m\u001b[0;34m=\u001b[0m\u001b[0minputs\u001b[0m\u001b[0;34m,\u001b[0m \u001b[0mmask\u001b[0m\u001b[0;34m=\u001b[0m\u001b[0mmask\u001b[0m\u001b[0;34m,\u001b[0m \u001b[0;34m**\u001b[0m\u001b[0mkwargs\u001b[0m\u001b[0;34m)\u001b[0m\u001b[0;34m)\u001b[0m\u001b[0;34m\u001b[0m\u001b[0m\n\u001b[0m\u001b[1;32m     29\u001b[0m         \u001b[0;32mreturn\u001b[0m \u001b[0mself\u001b[0m\u001b[0;34m\u001b[0m\u001b[0m\n\u001b[1;32m     30\u001b[0m \u001b[0;34m\u001b[0m\u001b[0m\n",
      "\u001b[0;32m~/anaconda3/lib/python3.6/site-packages/pylds/states.py\u001b[0m in \u001b[0;36m__init__\u001b[0;34m(self, model, data, mask, **kwargs)\u001b[0m\n\u001b[1;32m    601\u001b[0m \u001b[0;34m\u001b[0m\u001b[0m\n\u001b[1;32m    602\u001b[0m         \u001b[0;31m# Check if the emission matrix is a count regression\u001b[0m\u001b[0;34m\u001b[0m\u001b[0;34m\u001b[0m\u001b[0m\n\u001b[0;32m--> 603\u001b[0;31m         \u001b[0;32mfrom\u001b[0m \u001b[0mpypolyagamma\u001b[0m\u001b[0;34m.\u001b[0m\u001b[0mdistributions\u001b[0m \u001b[0;32mimport\u001b[0m \u001b[0m_PGLogisticRegressionBase\u001b[0m\u001b[0;34m\u001b[0m\u001b[0m\n\u001b[0m\u001b[1;32m    604\u001b[0m         \u001b[0;32mif\u001b[0m \u001b[0misinstance\u001b[0m\u001b[0;34m(\u001b[0m\u001b[0mself\u001b[0m\u001b[0;34m.\u001b[0m\u001b[0memission_distn\u001b[0m\u001b[0;34m,\u001b[0m \u001b[0m_PGLogisticRegressionBase\u001b[0m\u001b[0;34m)\u001b[0m\u001b[0;34m:\u001b[0m\u001b[0;34m\u001b[0m\u001b[0m\n\u001b[1;32m    605\u001b[0m             \u001b[0mself\u001b[0m\u001b[0;34m.\u001b[0m\u001b[0mhas_count_data\u001b[0m \u001b[0;34m=\u001b[0m \u001b[0;32mTrue\u001b[0m\u001b[0;34m\u001b[0m\u001b[0m\n",
      "\u001b[0;32m~/anaconda3/lib/python3.6/site-packages/pypolyagamma/__init__.py\u001b[0m in \u001b[0;36m<module>\u001b[0;34m()\u001b[0m\n\u001b[1;32m      1\u001b[0m \u001b[0;32mfrom\u001b[0m \u001b[0m__future__\u001b[0m \u001b[0;32mimport\u001b[0m \u001b[0mabsolute_import\u001b[0m\u001b[0;34m\u001b[0m\u001b[0m\n\u001b[1;32m      2\u001b[0m \u001b[0;32mfrom\u001b[0m \u001b[0mwarnings\u001b[0m \u001b[0;32mimport\u001b[0m \u001b[0mwarn\u001b[0m\u001b[0;34m\u001b[0m\u001b[0m\n\u001b[0;32m----> 3\u001b[0;31m \u001b[0;32mfrom\u001b[0m \u001b[0mpypolyagamma\u001b[0m\u001b[0;34m.\u001b[0m\u001b[0mpypolyagamma\u001b[0m \u001b[0;32mimport\u001b[0m \u001b[0mPyRNG\u001b[0m\u001b[0;34m,\u001b[0m \u001b[0mPyPolyaGamma\u001b[0m\u001b[0;34m\u001b[0m\u001b[0m\n\u001b[0m\u001b[1;32m      4\u001b[0m \u001b[0;34m\u001b[0m\u001b[0m\n\u001b[1;32m      5\u001b[0m \u001b[0;31m# Try to import the parallel version, but if they didn't compile,\u001b[0m\u001b[0;34m\u001b[0m\u001b[0;34m\u001b[0m\u001b[0m\n",
      "\u001b[0;31mImportError\u001b[0m: dlopen(/Users/anastasia/anaconda3/lib/python3.6/site-packages/pypolyagamma/pypolyagamma.cpython-36m-darwin.so, 2): Library not loaded: @rpath/libgsl.23.dylib\n  Referenced from: /Users/anastasia/anaconda3/lib/python3.6/site-packages/pypolyagamma/pypolyagamma.cpython-36m-darwin.so\n  Reason: image not found"
     ]
    }
   ],
   "source": [
    "kalman_convergence('N1', 10, 3000)"
   ]
  },
  {
   "cell_type": "code",
   "execution_count": null,
   "metadata": {
    "collapsed": true
   },
   "outputs": [],
   "source": []
  },
  {
   "cell_type": "code",
   "execution_count": null,
   "metadata": {
    "collapsed": true
   },
   "outputs": [],
   "source": []
  },
  {
   "cell_type": "code",
   "execution_count": null,
   "metadata": {
    "collapsed": true
   },
   "outputs": [],
   "source": [
    "\n"
   ]
  },
  {
   "cell_type": "code",
   "execution_count": null,
   "metadata": {
    "collapsed": true
   },
   "outputs": [],
   "source": []
  },
  {
   "cell_type": "code",
   "execution_count": null,
   "metadata": {
    "collapsed": true
   },
   "outputs": [],
   "source": []
  }
 ],
 "metadata": {
  "kernelspec": {
   "display_name": "Python 3",
   "language": "python",
   "name": "python3"
  },
  "language_info": {
   "codemirror_mode": {
    "name": "ipython",
    "version": 3
   },
   "file_extension": ".py",
   "mimetype": "text/x-python",
   "name": "python",
   "nbconvert_exporter": "python",
   "pygments_lexer": "ipython3",
   "version": "3.6.2"
  }
 },
 "nbformat": 4,
 "nbformat_minor": 2
}
